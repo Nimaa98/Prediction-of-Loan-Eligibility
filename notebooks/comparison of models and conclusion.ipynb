{
 "cells": [
  {
   "cell_type": "code",
   "execution_count": 3,
   "id": "026b3e37",
   "metadata": {},
   "outputs": [],
   "source": [
    "import numpy as np , pandas as pd , seaborn as sns , matplotlib.pyplot as plt"
   ]
  },
  {
   "cell_type": "markdown",
   "id": "12bd11a5",
   "metadata": {},
   "source": [
    "<h2>models progress</h2>"
   ]
  },
  {
   "cell_type": "code",
   "execution_count": null,
   "id": "8d670139",
   "metadata": {},
   "outputs": [],
   "source": []
  },
  {
   "cell_type": "code",
   "execution_count": 30,
   "id": "c19ff00e",
   "metadata": {},
   "outputs": [],
   "source": [
    "models_progress = {\"logistic_regression\" : [12.1 , 7.8] , \"KNN\" : [10.8 , 8] , \"ANN\" : [11.3 , 7.8]}\n",
    "mp = pd.DataFrame(models_progress , index=['raw' , 'normalized'])"
   ]
  },
  {
   "cell_type": "code",
   "execution_count": 31,
   "id": "b714c9db",
   "metadata": {},
   "outputs": [
    {
     "data": {
      "text/html": [
       "<div>\n",
       "<style scoped>\n",
       "    .dataframe tbody tr th:only-of-type {\n",
       "        vertical-align: middle;\n",
       "    }\n",
       "\n",
       "    .dataframe tbody tr th {\n",
       "        vertical-align: top;\n",
       "    }\n",
       "\n",
       "    .dataframe thead th {\n",
       "        text-align: right;\n",
       "    }\n",
       "</style>\n",
       "<table border=\"1\" class=\"dataframe\">\n",
       "  <thead>\n",
       "    <tr style=\"text-align: right;\">\n",
       "      <th></th>\n",
       "      <th>logistic_regression</th>\n",
       "      <th>KNN</th>\n",
       "      <th>ANN</th>\n",
       "    </tr>\n",
       "  </thead>\n",
       "  <tbody>\n",
       "    <tr>\n",
       "      <th>raw</th>\n",
       "      <td>12.1</td>\n",
       "      <td>10.8</td>\n",
       "      <td>11.3</td>\n",
       "    </tr>\n",
       "    <tr>\n",
       "      <th>normalized</th>\n",
       "      <td>7.8</td>\n",
       "      <td>8.0</td>\n",
       "      <td>7.8</td>\n",
       "    </tr>\n",
       "  </tbody>\n",
       "</table>\n",
       "</div>"
      ],
      "text/plain": [
       "            logistic_regression   KNN   ANN\n",
       "raw                        12.1  10.8  11.3\n",
       "normalized                  7.8   8.0   7.8"
      ]
     },
     "execution_count": 31,
     "metadata": {},
     "output_type": "execute_result"
    }
   ],
   "source": [
    "mp"
   ]
  },
  {
   "cell_type": "code",
   "execution_count": 34,
   "id": "222cb72b",
   "metadata": {},
   "outputs": [],
   "source": [
    "mp_reset = mp.reset_index().melt(\n",
    "    id_vars=\"index\",\n",
    "    var_name=\"model\",\n",
    "    value_name=\"accuracy_progress\"\n",
    ")\n",
    "mp_reset.rename(columns={\"index\": \"data_type\"} , inplace=True)"
   ]
  },
  {
   "cell_type": "code",
   "execution_count": 59,
   "id": "f9256afb",
   "metadata": {},
   "outputs": [
    {
     "data": {
      "image/png": "[encoded data removed]",
      "text/plain": [
       "<Figure size 800x500 with 1 Axes>"
      ]
     },
     "metadata": {},
     "output_type": "display_data"
    }
   ],
   "source": [
    "plt.figure(figsize=(8, 5))\n",
    "sns.barplot(data=mp_reset, x=\"data_type\", y=\"accuracy_progress\", hue=\"model\")\n",
    " \n",
    "plt.title(\"Models progress on Raw vs Normalized Data\")\n",
    "plt.ylabel(\"Accuracy_progress (%)\")\n",
    "plt.xlabel(\"Data Type\")\n",
    "plt.legend(title=\"Model\")\n",
    "# plt.grid(axis=\"y\", linestyle=\"--\", alpha=0.6)\n",
    "\n",
    "\n",
    "\n",
    "plt.savefig(\"../reports/figures/models_progress.png\", dpi=300)\n",
    "\n",
    "plt.show()"
   ]
  },
  {
   "cell_type": "markdown",
   "id": "e6604b06",
   "metadata": {},
   "source": [
    "<h2>Models score</h2>"
   ]
  },
  {
   "cell_type": "code",
   "execution_count": 36,
   "id": "fd8bb029",
   "metadata": {},
   "outputs": [],
   "source": [
    "models_score = {\"logistic_regression\" : [82.9 , 98.4 ,90] , \"KNN\" : [76.5 , 96.9, 85.5] , \"ANN\" : [82.9 , 98.4 ,90]}\n",
    "\n",
    "mc = pd.DataFrame(models_score , index=['precision' , 'recall' , 'f1'])"
   ]
  },
  {
   "cell_type": "code",
   "execution_count": 37,
   "id": "d1da2cc1",
   "metadata": {},
   "outputs": [
    {
     "data": {
      "text/html": [
       "<div>\n",
       "<style scoped>\n",
       "    .dataframe tbody tr th:only-of-type {\n",
       "        vertical-align: middle;\n",
       "    }\n",
       "\n",
       "    .dataframe tbody tr th {\n",
       "        vertical-align: top;\n",
       "    }\n",
       "\n",
       "    .dataframe thead th {\n",
       "        text-align: right;\n",
       "    }\n",
       "</style>\n",
       "<table border=\"1\" class=\"dataframe\">\n",
       "  <thead>\n",
       "    <tr style=\"text-align: right;\">\n",
       "      <th></th>\n",
       "      <th>logistic_regression</th>\n",
       "      <th>KNN</th>\n",
       "      <th>ANN</th>\n",
       "    </tr>\n",
       "  </thead>\n",
       "  <tbody>\n",
       "    <tr>\n",
       "      <th>precision</th>\n",
       "      <td>82.9</td>\n",
       "      <td>76.5</td>\n",
       "      <td>82.9</td>\n",
       "    </tr>\n",
       "    <tr>\n",
       "      <th>recall</th>\n",
       "      <td>98.4</td>\n",
       "      <td>96.9</td>\n",
       "      <td>98.4</td>\n",
       "    </tr>\n",
       "    <tr>\n",
       "      <th>f1</th>\n",
       "      <td>90.0</td>\n",
       "      <td>85.5</td>\n",
       "      <td>90.0</td>\n",
       "    </tr>\n",
       "  </tbody>\n",
       "</table>\n",
       "</div>"
      ],
      "text/plain": [
       "           logistic_regression   KNN   ANN\n",
       "precision                 82.9  76.5  82.9\n",
       "recall                    98.4  96.9  98.4\n",
       "f1                        90.0  85.5  90.0"
      ]
     },
     "execution_count": 37,
     "metadata": {},
     "output_type": "execute_result"
    }
   ],
   "source": [
    "mc"
   ]
  },
  {
   "cell_type": "code",
   "execution_count": 38,
   "id": "b40816f9",
   "metadata": {},
   "outputs": [],
   "source": [
    "mc_reset = mc.reset_index().melt(\n",
    "    id_vars=\"index\",\n",
    "    var_name=\"model\",\n",
    "    value_name=\"score_value\"\n",
    ")\n",
    "mc_reset.rename(columns={\"index\": \"score_type\"} , inplace=True)"
   ]
  },
  {
   "cell_type": "code",
   "execution_count": 39,
   "id": "1bffe8a0",
   "metadata": {},
   "outputs": [
    {
     "data": {
      "text/html": [
       "<div>\n",
       "<style scoped>\n",
       "    .dataframe tbody tr th:only-of-type {\n",
       "        vertical-align: middle;\n",
       "    }\n",
       "\n",
       "    .dataframe tbody tr th {\n",
       "        vertical-align: top;\n",
       "    }\n",
       "\n",
       "    .dataframe thead th {\n",
       "        text-align: right;\n",
       "    }\n",
       "</style>\n",
       "<table border=\"1\" class=\"dataframe\">\n",
       "  <thead>\n",
       "    <tr style=\"text-align: right;\">\n",
       "      <th></th>\n",
       "      <th>score_type</th>\n",
       "      <th>model</th>\n",
       "      <th>score_value</th>\n",
       "    </tr>\n",
       "  </thead>\n",
       "  <tbody>\n",
       "    <tr>\n",
       "      <th>0</th>\n",
       "      <td>precision</td>\n",
       "      <td>logistic_regression</td>\n",
       "      <td>82.9</td>\n",
       "    </tr>\n",
       "    <tr>\n",
       "      <th>1</th>\n",
       "      <td>recall</td>\n",
       "      <td>logistic_regression</td>\n",
       "      <td>98.4</td>\n",
       "    </tr>\n",
       "    <tr>\n",
       "      <th>2</th>\n",
       "      <td>f1</td>\n",
       "      <td>logistic_regression</td>\n",
       "      <td>90.0</td>\n",
       "    </tr>\n",
       "    <tr>\n",
       "      <th>3</th>\n",
       "      <td>precision</td>\n",
       "      <td>KNN</td>\n",
       "      <td>76.5</td>\n",
       "    </tr>\n",
       "    <tr>\n",
       "      <th>4</th>\n",
       "      <td>recall</td>\n",
       "      <td>KNN</td>\n",
       "      <td>96.9</td>\n",
       "    </tr>\n",
       "    <tr>\n",
       "      <th>5</th>\n",
       "      <td>f1</td>\n",
       "      <td>KNN</td>\n",
       "      <td>85.5</td>\n",
       "    </tr>\n",
       "    <tr>\n",
       "      <th>6</th>\n",
       "      <td>precision</td>\n",
       "      <td>ANN</td>\n",
       "      <td>82.9</td>\n",
       "    </tr>\n",
       "    <tr>\n",
       "      <th>7</th>\n",
       "      <td>recall</td>\n",
       "      <td>ANN</td>\n",
       "      <td>98.4</td>\n",
       "    </tr>\n",
       "    <tr>\n",
       "      <th>8</th>\n",
       "      <td>f1</td>\n",
       "      <td>ANN</td>\n",
       "      <td>90.0</td>\n",
       "    </tr>\n",
       "  </tbody>\n",
       "</table>\n",
       "</div>"
      ],
      "text/plain": [
       "  score_type                model  score_value\n",
       "0  precision  logistic_regression         82.9\n",
       "1     recall  logistic_regression         98.4\n",
       "2         f1  logistic_regression         90.0\n",
       "3  precision                  KNN         76.5\n",
       "4     recall                  KNN         96.9\n",
       "5         f1                  KNN         85.5\n",
       "6  precision                  ANN         82.9\n",
       "7     recall                  ANN         98.4\n",
       "8         f1                  ANN         90.0"
      ]
     },
     "execution_count": 39,
     "metadata": {},
     "output_type": "execute_result"
    }
   ],
   "source": [
    "mc_reset"
   ]
  },
  {
   "cell_type": "code",
   "execution_count": 60,
   "id": "f8e4178e",
   "metadata": {},
   "outputs": [
    {
     "data": {
      "image/png": "[encoded data removed]",
      "text/plain": [
       "<Figure size 1400x800 with 1 Axes>"
      ]
     },
     "metadata": {},
     "output_type": "display_data"
    }
   ],
   "source": [
    "plt.figure(figsize=(14, 8))\n",
    "sns.barplot(data=mc_reset, x=\"score_type\", y=\"score_value\", hue=\"model\")\n",
    " \n",
    "plt.title(\"score types on each model \")\n",
    "plt.ylabel(\"score (%)\")\n",
    "plt.xlabel(\"score Type\")\n",
    "plt.legend(title=\"model\")\n",
    "# plt.grid(axis=\"y\", linestyle=\"--\", alpha=0.6)\n",
    "\n",
    "\n",
    "plt.savefig(\"../reports/figures/score types on each model\", dpi=300)\n",
    "\n",
    "\n",
    "plt.show()"
   ]
  },
  {
   "cell_type": "markdown",
   "id": "d99314d2",
   "metadata": {},
   "source": [
    "## False Positive Error"
   ]
  },
  {
   "cell_type": "code",
   "execution_count": 42,
   "id": "8c294e9f",
   "metadata": {},
   "outputs": [],
   "source": [
    "models_FP = {\"logistic_regression\" : [13.98 , 13.98] , \"KNN\" : [29.3 , 20.43] , \"ANN\" : [30.11 , 13.98]}\n",
    "MFP = pd.DataFrame(models_FP , index=['raw' , 'normalized'])"
   ]
  },
  {
   "cell_type": "code",
   "execution_count": 43,
   "id": "0a676493",
   "metadata": {},
   "outputs": [
    {
     "data": {
      "text/html": [
       "<div>\n",
       "<style scoped>\n",
       "    .dataframe tbody tr th:only-of-type {\n",
       "        vertical-align: middle;\n",
       "    }\n",
       "\n",
       "    .dataframe tbody tr th {\n",
       "        vertical-align: top;\n",
       "    }\n",
       "\n",
       "    .dataframe thead th {\n",
       "        text-align: right;\n",
       "    }\n",
       "</style>\n",
       "<table border=\"1\" class=\"dataframe\">\n",
       "  <thead>\n",
       "    <tr style=\"text-align: right;\">\n",
       "      <th></th>\n",
       "      <th>logistic_regression</th>\n",
       "      <th>KNN</th>\n",
       "      <th>ANN</th>\n",
       "    </tr>\n",
       "  </thead>\n",
       "  <tbody>\n",
       "    <tr>\n",
       "      <th>raw</th>\n",
       "      <td>13.98</td>\n",
       "      <td>29.30</td>\n",
       "      <td>30.11</td>\n",
       "    </tr>\n",
       "    <tr>\n",
       "      <th>normalized</th>\n",
       "      <td>13.98</td>\n",
       "      <td>20.43</td>\n",
       "      <td>13.98</td>\n",
       "    </tr>\n",
       "  </tbody>\n",
       "</table>\n",
       "</div>"
      ],
      "text/plain": [
       "            logistic_regression    KNN    ANN\n",
       "raw                       13.98  29.30  30.11\n",
       "normalized                13.98  20.43  13.98"
      ]
     },
     "execution_count": 43,
     "metadata": {},
     "output_type": "execute_result"
    }
   ],
   "source": [
    "MFP"
   ]
  },
  {
   "cell_type": "code",
   "execution_count": 53,
   "id": "0daf365f",
   "metadata": {},
   "outputs": [],
   "source": [
    "MFP_reset = MFP.reset_index().melt(\n",
    "    id_vars=\"index\",\n",
    "    var_name=\"model\",\n",
    "    value_name=\"False Positive\"\n",
    ")\n",
    "MFP_reset.rename(columns={\"index\": \"data_type\"} , inplace=True) "
   ]
  },
  {
   "cell_type": "code",
   "execution_count": 54,
   "id": "8e422488",
   "metadata": {},
   "outputs": [
    {
     "data": {
      "text/html": [
       "<div>\n",
       "<style scoped>\n",
       "    .dataframe tbody tr th:only-of-type {\n",
       "        vertical-align: middle;\n",
       "    }\n",
       "\n",
       "    .dataframe tbody tr th {\n",
       "        vertical-align: top;\n",
       "    }\n",
       "\n",
       "    .dataframe thead th {\n",
       "        text-align: right;\n",
       "    }\n",
       "</style>\n",
       "<table border=\"1\" class=\"dataframe\">\n",
       "  <thead>\n",
       "    <tr style=\"text-align: right;\">\n",
       "      <th></th>\n",
       "      <th>data_type</th>\n",
       "      <th>model</th>\n",
       "      <th>False Positive</th>\n",
       "    </tr>\n",
       "  </thead>\n",
       "  <tbody>\n",
       "    <tr>\n",
       "      <th>0</th>\n",
       "      <td>raw</td>\n",
       "      <td>logistic_regression</td>\n",
       "      <td>13.98</td>\n",
       "    </tr>\n",
       "    <tr>\n",
       "      <th>1</th>\n",
       "      <td>normalized</td>\n",
       "      <td>logistic_regression</td>\n",
       "      <td>13.98</td>\n",
       "    </tr>\n",
       "    <tr>\n",
       "      <th>2</th>\n",
       "      <td>raw</td>\n",
       "      <td>KNN</td>\n",
       "      <td>29.30</td>\n",
       "    </tr>\n",
       "    <tr>\n",
       "      <th>3</th>\n",
       "      <td>normalized</td>\n",
       "      <td>KNN</td>\n",
       "      <td>20.43</td>\n",
       "    </tr>\n",
       "    <tr>\n",
       "      <th>4</th>\n",
       "      <td>raw</td>\n",
       "      <td>ANN</td>\n",
       "      <td>30.11</td>\n",
       "    </tr>\n",
       "    <tr>\n",
       "      <th>5</th>\n",
       "      <td>normalized</td>\n",
       "      <td>ANN</td>\n",
       "      <td>13.98</td>\n",
       "    </tr>\n",
       "  </tbody>\n",
       "</table>\n",
       "</div>"
      ],
      "text/plain": [
       "    data_type                model  False Positive\n",
       "0         raw  logistic_regression           13.98\n",
       "1  normalized  logistic_regression           13.98\n",
       "2         raw                  KNN           29.30\n",
       "3  normalized                  KNN           20.43\n",
       "4         raw                  ANN           30.11\n",
       "5  normalized                  ANN           13.98"
      ]
     },
     "execution_count": 54,
     "metadata": {},
     "output_type": "execute_result"
    }
   ],
   "source": [
    "MFP_reset"
   ]
  },
  {
   "cell_type": "code",
   "execution_count": 61,
   "id": "9f0eb463",
   "metadata": {},
   "outputs": [
    {
     "data": {
      "image/png": "[encoded data removed]",
      "text/plain": [
       "<Figure size 800x500 with 1 Axes>"
      ]
     },
     "metadata": {},
     "output_type": "display_data"
    }
   ],
   "source": [
    "plt.figure(figsize=(8, 5))\n",
    "sns.barplot(data=MFP_reset, x=\"data_type\", y=\"False Positive\", hue=\"model\")\n",
    " \n",
    "plt.title(\"Model False Positive Errors on Raw vs Normalized Data\")\n",
    "plt.ylabel(\"False Positive (%)\")\n",
    "plt.xlabel(\"data type\")\n",
    "plt.legend(title=\"Model\")\n",
    "\n",
    "plt.savefig(\"../reports/figures/False_Positive_Errors.png\", dpi=300)\n",
    "# plt.grid(axis=\"y\", linestyle=\"--\", alpha=0.6)"
   ]
  },
  {
   "cell_type": "markdown",
   "id": "da8c7c7e",
   "metadata": {},
   "source": [
    "<h2>best Model</h2>"
   ]
  },
  {
   "cell_type": "markdown",
   "id": "844f93cc",
   "metadata": {},
   "source": [
    "<h3>grid_search_logistic_regression</h3>"
   ]
  },
  {
   "cell_type": "code",
   "execution_count": null,
   "id": "5d362cc1",
   "metadata": {},
   "outputs": [],
   "source": []
  },
  {
   "cell_type": "code",
   "execution_count": null,
   "id": "4855dd13",
   "metadata": {},
   "outputs": [],
   "source": []
  }
 ],
 "metadata": {
  "kernelspec": {
   "display_name": "Python(Tennis_venv)",
   "language": "python",
   "name": "venv"
  },
  "language_info": {
   "codemirror_mode": {
    "name": "ipython",
    "version": 3
   },
   "file_extension": ".py",
   "mimetype": "text/x-python",
   "name": "python",
   "nbconvert_exporter": "python",
   "pygments_lexer": "ipython3",
   "version": "3.12.3"
  }
 },
 "nbformat": 4,
 "nbformat_minor": 5
}
